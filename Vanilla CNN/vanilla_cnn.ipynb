{
 "cells": [
  {
   "cell_type": "code",
   "execution_count": 1,
   "metadata": {},
   "outputs": [],
   "source": [
    "import torch\n",
    "from torch.autograd import Variable\n",
    "import torch.nn as nn\n",
    "import torch.nn.functional as F\n",
    "import torch.optim as optim\n",
    "from torchvision import datasets, transforms"
   ]
  },
  {
   "cell_type": "code",
   "execution_count": 9,
   "metadata": {},
   "outputs": [],
   "source": [
    "params = {\n",
    "    'batch_size': 500,\n",
    "    'learning_rate': 0.001,\n",
    "    'epochs': 5,\n",
    "    'log_interval': 60,\n",
    "    'momentum': 0.9\n",
    "}"
   ]
  },
  {
   "cell_type": "code",
   "execution_count": 10,
   "metadata": {},
   "outputs": [],
   "source": [
    "def load_dataset_and_transform():\n",
    "    \n",
    "    transforms_reqd = transforms.Compose([transforms.ToTensor(), transforms.Normalize((0.1307,), (0.3081,))])\n",
    "    # for multichannel inputs like an RG image, have to provide mean and stddev for each channel to normalize\n",
    "    loaded_trdata = datasets.MNIST('../data', train=True, download = True, transform = transforms_reqd)\n",
    "    loaded_tsdata = datasets.MNIST('../data', train=False, transform = transforms_reqd)\n",
    "    train_loader = torch.utils.data.DataLoader(loaded_trdata, batch_size = params['batch_size'], shuffle = True)\n",
    "    test_loader = torch.utils.data.DataLoader(loaded_tsdata, batch_size = params['batch_size'], shuffle = False)\n",
    "    \n",
    "    # A data loader can be used as an iterator – so to extract the data we can just use the\n",
    "    #standard Python iterators such as enumerate.                                                                                             \n",
    "    \n",
    "    return train_loader, test_loader\n",
    "    "
   ]
  },
  {
   "cell_type": "code",
   "execution_count": 11,
   "metadata": {},
   "outputs": [],
   "source": [
    "class ConvNet(nn.Module):\n",
    "    \n",
    "    # creating the conv net as :\n",
    "    # input -> [Conv2d -> ReLU -> Pooling] -> [Conv2d -> ReLU -> Pooling] -> dropout -> fc1 -> fc2 -> output \n",
    "    def __init__(self):\n",
    "        super(ConvNet, self).__init__()\n",
    "        self.clayer1 = nn.Sequential(\\\n",
    "                                    nn.Conv2d(1, 32, kernel_size=(5,5), stride=1, padding=2),\\\n",
    "                                    nn.ReLU(),\\\n",
    "                                    nn.MaxPool2d(kernel_size=2, stride=2))\n",
    "        # using a Sequential object to create the [Conv2d -> ReLU -> Pooling] sequence\n",
    "        self.clayer2 = nn.Sequential(\\\n",
    "                                    nn.Conv2d(32, 64, kernel_size=(5,5), stride=1, padding=2),\\\n",
    "                                    nn.ReLU(),\\\n",
    "                                    nn.MaxPool2d(kernel_size=2, stride=2))\n",
    "        self.drop_out = nn.Dropout()\n",
    "        self.fc1 = nn.Linear(7*7*64, 1000)    \n",
    "        # 64 output channels with output feature maps of 7*7 => creating a FC layer with 1000 output neurons\n",
    "        self.fc2 = nn.Linear(1000,10)\n",
    "        # 10 output neurons for 10 digits of MNIST\n",
    "        \n",
    "        \n",
    "    # the following function describes how a batch of data passes through the network. forward() is described \n",
    "    # already in pytorch and is being overridden here\n",
    "    def forward(self, x):\n",
    "        out = self.clayer1(x)\n",
    "        out = self.clayer2(out)\n",
    "        out = out.reshape(out.size(0), -1)    \n",
    "        # flattening for further use - out.size() is the shape of one image's output map (7*7*64), and -1 for\n",
    "        # number of images in the batch - adjusted by pytorch\n",
    "        out = self.drop_out(out)\n",
    "        out = self.fc1(out)\n",
    "        out = self.fc2(out)\n",
    "        \n",
    "        return out\n",
    "        # no softmax layer defined here as we have used CrossEntropy loss later which incorporates softmax"
   ]
  },
  {
   "cell_type": "code",
   "execution_count": 12,
   "metadata": {},
   "outputs": [
    {
     "name": "stdout",
     "output_type": "stream",
     "text": [
      "ConvNet(\n",
      "  (clayer1): Sequential(\n",
      "    (0): Conv2d(1, 32, kernel_size=(5, 5), stride=(1, 1), padding=(2, 2))\n",
      "    (1): ReLU()\n",
      "    (2): MaxPool2d(kernel_size=2, stride=2, padding=0, dilation=1, ceil_mode=False)\n",
      "  )\n",
      "  (clayer2): Sequential(\n",
      "    (0): Conv2d(32, 64, kernel_size=(5, 5), stride=(1, 1), padding=(2, 2))\n",
      "    (1): ReLU()\n",
      "    (2): MaxPool2d(kernel_size=2, stride=2, padding=0, dilation=1, ceil_mode=False)\n",
      "  )\n",
      "  (drop_out): Dropout(p=0.5)\n",
      "  (fc1): Linear(in_features=3136, out_features=1000, bias=True)\n",
      "  (fc2): Linear(in_features=1000, out_features=10, bias=True)\n",
      ")\n"
     ]
    }
   ],
   "source": [
    "# creating an instance of convnet created and defining our loss and optimizer\n",
    "cnet = ConvNet()\n",
    "print(cnet)\n",
    "loss_fn = nn.CrossEntropyLoss()\n",
    "optimizer = optim.Adam(cnet.parameters(), lr = params['learning_rate'])"
   ]
  },
  {
   "cell_type": "code",
   "execution_count": 13,
   "metadata": {},
   "outputs": [],
   "source": [
    "train_data, test_data = load_dataset_and_transform()"
   ]
  },
  {
   "cell_type": "code",
   "execution_count": 14,
   "metadata": {},
   "outputs": [
    {
     "name": "stdout",
     "output_type": "stream",
     "text": [
      "Train Epoch : 1 [0/60000] (0 %)  Loss: 2.313188  Train_acc: 9.600000\n",
      "Train Epoch : 1 [30000/60000] (50 %)  Loss: 0.142383  Train_acc: 95.800000\n",
      "Train Epoch : 2 [0/60000] (0 %)  Loss: 0.080169  Train_acc: 97.200000\n",
      "Train Epoch : 2 [30000/60000] (50 %)  Loss: 0.056442  Train_acc: 98.200000\n",
      "Train Epoch : 3 [0/60000] (0 %)  Loss: 0.035278  Train_acc: 98.600000\n",
      "Train Epoch : 3 [30000/60000] (50 %)  Loss: 0.062088  Train_acc: 97.800000\n",
      "Train Epoch : 4 [0/60000] (0 %)  Loss: 0.047022  Train_acc: 97.800000\n",
      "Train Epoch : 4 [30000/60000] (50 %)  Loss: 0.070167  Train_acc: 98.600000\n",
      "Train Epoch : 5 [0/60000] (0 %)  Loss: 0.029028  Train_acc: 99.000000\n",
      "Train Epoch : 5 [30000/60000] (50 %)  Loss: 0.033858  Train_acc: 98.800000\n"
     ]
    }
   ],
   "source": [
    "# training loop - keep storing the loss and accuracy too\n",
    "losses = []\n",
    "accs = []\n",
    "total_imgs_in_dataset = len(train_data.dataset)\n",
    "\n",
    "for epoch in range(0, params['epochs']):\n",
    "    for batch_idx, (data, target) in enumerate(train_data):\n",
    "        \n",
    "        \n",
    "        # one forward pass\n",
    "        model_output = cnet(data)\n",
    "        #print(model_output)\n",
    "        train_loss = loss_fn(model_output, target)\n",
    "        losses.append(train_loss.item())\n",
    "        \n",
    "        # backward pass and optimize\n",
    "        optimizer.zero_grad()\n",
    "        train_loss.backward()\n",
    "        optimizer.step()\n",
    "        \n",
    "        # compare predictions\n",
    "        total_preds = target.size(0)\n",
    "        _, preds = torch.max(model_output.data, 1) # 1 indicates we need max values for each \"row\"\n",
    "        # Returns a namedtuple (values, indices) where values is the \n",
    "        # maximum value of each row of the input tensor in the given \n",
    "        # dimension dim. And indices is the index location of each maximum value found (argmax).\n",
    "        matched = (preds==target).sum().item()\n",
    "        accs.append(matched/total_preds)\n",
    "\n",
    "        if batch_idx % params['log_interval'] ==0:\n",
    "            processed_imgs = batch_idx*len(data) # no. of batches * no of images in each batch\n",
    "            percentage_processed = processed_imgs*100.0/total_imgs_in_dataset\n",
    "            print('Train Epoch : {} [{}/{}] ({:.0f} %)  Loss: {:.6f}  Train_acc: {:2f}'.format\\\n",
    "                 ((epoch+1), processed_imgs, total_imgs_in_dataset, percentage_processed,\\\n",
    "                 train_loss.item(), (matched/total_preds)*100.0))"
   ]
  },
  {
   "cell_type": "code",
   "execution_count": 18,
   "metadata": {},
   "outputs": [
    {
     "name": "stdout",
     "output_type": "stream",
     "text": [
      "(0, [tensor([[[[-0.4242, -0.4242, -0.4242,  ..., -0.4242, -0.4242, -0.4242],\n",
      "          [-0.4242, -0.4242, -0.4242,  ..., -0.4242, -0.4242, -0.4242],\n",
      "          [-0.4242, -0.4242, -0.4242,  ..., -0.4242, -0.4242, -0.4242],\n",
      "          ...,\n",
      "          [-0.4242, -0.4242, -0.4242,  ..., -0.4242, -0.4242, -0.4242],\n",
      "          [-0.4242, -0.4242, -0.4242,  ..., -0.4242, -0.4242, -0.4242],\n",
      "          [-0.4242, -0.4242, -0.4242,  ..., -0.4242, -0.4242, -0.4242]]],\n",
      "\n",
      "\n",
      "        [[[-0.4242, -0.4242, -0.4242,  ..., -0.4242, -0.4242, -0.4242],\n",
      "          [-0.4242, -0.4242, -0.4242,  ..., -0.4242, -0.4242, -0.4242],\n",
      "          [-0.4242, -0.4242, -0.4242,  ..., -0.4242, -0.4242, -0.4242],\n",
      "          ...,\n",
      "          [-0.4242, -0.4242, -0.4242,  ..., -0.4242, -0.4242, -0.4242],\n",
      "          [-0.4242, -0.4242, -0.4242,  ..., -0.4242, -0.4242, -0.4242],\n",
      "          [-0.4242, -0.4242, -0.4242,  ..., -0.4242, -0.4242, -0.4242]]],\n",
      "\n",
      "\n",
      "        [[[-0.4242, -0.4242, -0.4242,  ..., -0.4242, -0.4242, -0.4242],\n",
      "          [-0.4242, -0.4242, -0.4242,  ..., -0.4242, -0.4242, -0.4242],\n",
      "          [-0.4242, -0.4242, -0.4242,  ..., -0.4242, -0.4242, -0.4242],\n",
      "          ...,\n",
      "          [-0.4242, -0.4242, -0.4242,  ..., -0.4242, -0.4242, -0.4242],\n",
      "          [-0.4242, -0.4242, -0.4242,  ..., -0.4242, -0.4242, -0.4242],\n",
      "          [-0.4242, -0.4242, -0.4242,  ..., -0.4242, -0.4242, -0.4242]]],\n",
      "\n",
      "\n",
      "        ...,\n",
      "\n",
      "\n",
      "        [[[-0.4242, -0.4242, -0.4242,  ..., -0.4242, -0.4242, -0.4242],\n",
      "          [-0.4242, -0.4242, -0.4242,  ..., -0.4242, -0.4242, -0.4242],\n",
      "          [-0.4242, -0.4242, -0.4242,  ..., -0.4242, -0.4242, -0.4242],\n",
      "          ...,\n",
      "          [-0.4242, -0.4242, -0.4242,  ..., -0.4242, -0.4242, -0.4242],\n",
      "          [-0.4242, -0.4242, -0.4242,  ..., -0.4242, -0.4242, -0.4242],\n",
      "          [-0.4242, -0.4242, -0.4242,  ..., -0.4242, -0.4242, -0.4242]]],\n",
      "\n",
      "\n",
      "        [[[-0.4242, -0.4242, -0.4242,  ..., -0.4242, -0.4242, -0.4242],\n",
      "          [-0.4242, -0.4242, -0.4242,  ..., -0.4242, -0.4242, -0.4242],\n",
      "          [-0.4242, -0.4242, -0.4242,  ..., -0.4242, -0.4242, -0.4242],\n",
      "          ...,\n",
      "          [-0.4242, -0.4242, -0.4242,  ..., -0.4242, -0.4242, -0.4242],\n",
      "          [-0.4242, -0.4242, -0.4242,  ..., -0.4242, -0.4242, -0.4242],\n",
      "          [-0.4242, -0.4242, -0.4242,  ..., -0.4242, -0.4242, -0.4242]]],\n",
      "\n",
      "\n",
      "        [[[-0.4242, -0.4242, -0.4242,  ..., -0.4242, -0.4242, -0.4242],\n",
      "          [-0.4242, -0.4242, -0.4242,  ..., -0.4242, -0.4242, -0.4242],\n",
      "          [-0.4242, -0.4242, -0.4242,  ..., -0.4242, -0.4242, -0.4242],\n",
      "          ...,\n",
      "          [-0.4242, -0.4242, -0.4242,  ..., -0.4242, -0.4242, -0.4242],\n",
      "          [-0.4242, -0.4242, -0.4242,  ..., -0.4242, -0.4242, -0.4242],\n",
      "          [-0.4242, -0.4242, -0.4242,  ..., -0.4242, -0.4242, -0.4242]]]]), tensor([7, 2, 1, 0, 4, 1, 4, 9, 5, 9, 0, 6, 9, 0, 1, 5, 9, 7, 3, 4, 9, 6, 6, 5,\n",
      "        4, 0, 7, 4, 0, 1, 3, 1, 3, 4, 7, 2, 7, 1, 2, 1, 1, 7, 4, 2, 3, 5, 1, 2,\n",
      "        4, 4, 6, 3, 5, 5, 6, 0, 4, 1, 9, 5, 7, 8, 9, 3, 7, 4, 6, 4, 3, 0, 7, 0,\n",
      "        2, 9, 1, 7, 3, 2, 9, 7, 7, 6, 2, 7, 8, 4, 7, 3, 6, 1, 3, 6, 9, 3, 1, 4,\n",
      "        1, 7, 6, 9, 6, 0, 5, 4, 9, 9, 2, 1, 9, 4, 8, 7, 3, 9, 7, 4, 4, 4, 9, 2,\n",
      "        5, 4, 7, 6, 7, 9, 0, 5, 8, 5, 6, 6, 5, 7, 8, 1, 0, 1, 6, 4, 6, 7, 3, 1,\n",
      "        7, 1, 8, 2, 0, 2, 9, 9, 5, 5, 1, 5, 6, 0, 3, 4, 4, 6, 5, 4, 6, 5, 4, 5,\n",
      "        1, 4, 4, 7, 2, 3, 2, 7, 1, 8, 1, 8, 1, 8, 5, 0, 8, 9, 2, 5, 0, 1, 1, 1,\n",
      "        0, 9, 0, 3, 1, 6, 4, 2, 3, 6, 1, 1, 1, 3, 9, 5, 2, 9, 4, 5, 9, 3, 9, 0,\n",
      "        3, 6, 5, 5, 7, 2, 2, 7, 1, 2, 8, 4, 1, 7, 3, 3, 8, 8, 7, 9, 2, 2, 4, 1,\n",
      "        5, 9, 8, 7, 2, 3, 0, 4, 4, 2, 4, 1, 9, 5, 7, 7, 2, 8, 2, 6, 8, 5, 7, 7,\n",
      "        9, 1, 8, 1, 8, 0, 3, 0, 1, 9, 9, 4, 1, 8, 2, 1, 2, 9, 7, 5, 9, 2, 6, 4,\n",
      "        1, 5, 8, 2, 9, 2, 0, 4, 0, 0, 2, 8, 4, 7, 1, 2, 4, 0, 2, 7, 4, 3, 3, 0,\n",
      "        0, 3, 1, 9, 6, 5, 2, 5, 9, 2, 9, 3, 0, 4, 2, 0, 7, 1, 1, 2, 1, 5, 3, 3,\n",
      "        9, 7, 8, 6, 5, 6, 1, 3, 8, 1, 0, 5, 1, 3, 1, 5, 5, 6, 1, 8, 5, 1, 7, 9,\n",
      "        4, 6, 2, 2, 5, 0, 6, 5, 6, 3, 7, 2, 0, 8, 8, 5, 4, 1, 1, 4, 0, 3, 3, 7,\n",
      "        6, 1, 6, 2, 1, 9, 2, 8, 6, 1, 9, 5, 2, 5, 4, 4, 2, 8, 3, 8, 2, 4, 5, 0,\n",
      "        3, 1, 7, 7, 5, 7, 9, 7, 1, 9, 2, 1, 4, 2, 9, 2, 0, 4, 9, 1, 4, 8, 1, 8,\n",
      "        4, 5, 9, 8, 8, 3, 7, 6, 0, 0, 3, 0, 2, 6, 6, 4, 9, 3, 3, 3, 2, 3, 9, 1,\n",
      "        2, 6, 8, 0, 5, 6, 6, 6, 3, 8, 8, 2, 7, 5, 8, 9, 6, 1, 8, 4, 1, 2, 5, 9,\n",
      "        1, 9, 7, 5, 4, 0, 8, 9, 9, 1, 0, 5, 2, 3, 7, 8, 9, 4, 0, 6])])\n"
     ]
    }
   ],
   "source": [
    "l = list(enumerate(test_data))\n",
    "print(l[0])"
   ]
  },
  {
   "cell_type": "code",
   "execution_count": 19,
   "metadata": {},
   "outputs": [
    {
     "name": "stdout",
     "output_type": "stream",
     "text": [
      "Test Accuracy of the model on the 10000 test images: 98.77 %\n"
     ]
    }
   ],
   "source": [
    "#testing loop\n",
    "correct = 0\n",
    "total = 0\n",
    "for data, target in test_data:\n",
    "        model_output = cnet(data)\n",
    "        _, preds = torch.max(model_output.data, 1)\n",
    "        total += target.size(0)\n",
    "        correct += (preds==target).sum().item()\n",
    "        \n",
    "print('Test Accuracy of the model on the 10000 test images: {} %'.format((correct / total) * 100))\n",
    "        \n",
    "        "
   ]
  },
  {
   "cell_type": "code",
   "execution_count": 20,
   "metadata": {},
   "outputs": [],
   "source": [
    "from matplotlib import pyplot as plt"
   ]
  },
  {
   "cell_type": "code",
   "execution_count": 29,
   "metadata": {},
   "outputs": [
    {
     "data": {
      "image/png": "[encoded data removed]",
      "text/plain": [
       "<Figure size 432x288 with 1 Axes>"
      ]
     },
     "metadata": {},
     "output_type": "display_data"
    },
    {
     "data": {
      "image/png": "[encoded data removed]",
      "text/plain": [
       "<Figure size 432x288 with 1 Axes>"
      ]
     },
     "metadata": {},
     "output_type": "display_data"
    }
   ],
   "source": [
    "#loss curve (training)\n",
    "noOfIters = [x for x in range(0,len(losses))]\n",
    "fig1 = plt.figure()\n",
    "plt.plot(noOfIters, losses, 'r', label = 'training loss')\n",
    "plt.title(\"Loss curve\")\n",
    "plt.legend(loc = 'upper right')\n",
    "plt.ylim(0, 1)\n",
    "plt.ylabel('Loss');\n",
    "plt.xlabel('No. of iterations')\n",
    "plt.show()\n",
    "fig1.savefig('loss curve.png')\n",
    "\n",
    "\n",
    "fig2 = plt.figure()\n",
    "# accuracy curve (training)\n",
    "plt.plot(noOfIters, accs, 'b', label = 'accuracy')\n",
    "plt.title(\"Accuracy curve\")\n",
    "plt.legend(loc = 'upper right')\n",
    "plt.ylim(0, 1)\n",
    "plt.ylabel('Accuracy ( values divided by 100)');\n",
    "plt.xlabel('No. of iterations')\n",
    "plt.savefig('accuracy.png')\n",
    "\n",
    "\n"
   ]
  },
  {
   "cell_type": "code",
   "execution_count": null,
   "metadata": {},
   "outputs": [],
   "source": []
  }
 ],
 "metadata": {
  "kernelspec": {
   "display_name": "Python 3",
   "language": "python",
   "name": "python3"
  },
  "language_info": {
   "codemirror_mode": {
    "name": "ipython",
    "version": 3
   },
   "file_extension": ".py",
   "mimetype": "text/x-python",
   "name": "python",
   "nbconvert_exporter": "python",
   "pygments_lexer": "ipython3",
   "version": "3.6.9"
  }
 },
 "nbformat": 4,
 "nbformat_minor": 2
}
